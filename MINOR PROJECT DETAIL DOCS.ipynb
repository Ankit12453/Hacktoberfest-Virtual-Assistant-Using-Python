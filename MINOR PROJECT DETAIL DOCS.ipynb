{
 "cells": [
  {
   "cell_type": "markdown",
   "metadata": {},
   "source": [
    "# MINOR PROJECT \n",
    "\n",
    "## VIRTUAL ASSISTANT : MOXA"
   ]
  },
  {
   "cell_type": "markdown",
   "metadata": {},
   "source": [
    "### NECESSARY PYTHON LIBRARIES ###"
   ]
  },
  {
   "cell_type": "code",
   "execution_count": 1,
   "metadata": {},
   "outputs": [],
   "source": [
    "import speech_recognition \n",
    "import pyttsx3\n",
    "import pywhatkit\n",
    "import datetime\n",
    "import wikipedia\n",
    "import pyjokes"
   ]
  },
  {
   "cell_type": "markdown",
   "metadata": {},
   "source": [
    "### INSTALLATION  COMMAND ###"
   ]
  },
  {
   "cell_type": "code",
   "execution_count": 4,
   "metadata": {},
   "outputs": [],
   "source": [
    "#FOR SPEECHRECOGNITION: pip install SpeechRecognition"
   ]
  },
  {
   "cell_type": "code",
   "execution_count": 2,
   "metadata": {},
   "outputs": [],
   "source": [
    "#FOR PYTTSX3 : pip install pyttsx3"
   ]
  },
  {
   "cell_type": "code",
   "execution_count": 3,
   "metadata": {},
   "outputs": [],
   "source": [
    "#FOR PYWHATKIT : pip install pywhatkit"
   ]
  },
  {
   "cell_type": "code",
   "execution_count": 5,
   "metadata": {},
   "outputs": [],
   "source": [
    "#FOR DATETIME : pip install datetime"
   ]
  },
  {
   "cell_type": "code",
   "execution_count": 6,
   "metadata": {},
   "outputs": [],
   "source": [
    "#FOR WIKIPEDIA : pip install wikipedia"
   ]
  },
  {
   "cell_type": "code",
   "execution_count": 7,
   "metadata": {},
   "outputs": [],
   "source": [
    "#FOR PYJOKES : pip install pyjokes"
   ]
  },
  {
   "cell_type": "code",
   "execution_count": 8,
   "metadata": {},
   "outputs": [],
   "source": [
    "#FOR WEBBROWSER : pip install webbrowser"
   ]
  },
  {
   "cell_type": "code",
   "execution_count": null,
   "metadata": {},
   "outputs": [],
   "source": [
    "import pyttsx3\n",
    "import speech_recognition as sr\n",
    "import webbrowser\n",
    "import datetime\n",
    "import wikipedia\n",
    "\n",
    "\n",
    "\n",
    "def takeCommand():\n",
    "\n",
    "\tr = sr.Recognizer()\n",
    "\n",
    "\n",
    "\twith sr.Microphone() as source:\n",
    "\t\tprint('Listening')\n",
    "\t\t\n",
    "\n",
    "\t\tr.pause_threshold = 0.7\n",
    "\t\taudio = r.listen(source)\n",
    "\t\t\n",
    "\n",
    "\t\ttry:\n",
    "\t\t\tprint(\"Recognizing\")\n",
    "\t\t\t\n",
    "\n",
    "\t\t\tQuery = r.recognize_google(audio, language='en-in')\n",
    "\t\t\tprint(\"the command is printed=\", Query)\n",
    "\t\t\t\n",
    "\t\texcept Exception as e:\n",
    "\t\t\tprint(e)\n",
    "\t\t\tprint(\"Say that again sir\")\n",
    "\t\t\treturn \"None\"\n",
    "\t\t\n",
    "\t\treturn Query\n",
    "\n",
    "def speak(audio):\n",
    "\t\n",
    "\tengine = pyttsx3.init()\n",
    "\n",
    "\tvoices = engine.getProperty('voices')\n",
    "\t\n",
    "\n",
    "\tengine.setProperty('voice', voices[0].id)\n",
    "\n",
    "\tengine.say(audio)\n",
    "\t\n",
    "\n",
    "\tengine.runAndWait()\n",
    "\n",
    "def tellDay():\n",
    "\t\n",
    "\n",
    "\tday = datetime.datetime.today().weekday() + 1\n",
    "\t\n",
    "\n",
    "\tDay_dict = {1: 'Monday', 2: 'Tuesday',\n",
    "\t\t\t\t3: 'Wednesday', 4: 'Thursday',\n",
    "\t\t\t\t5: 'Friday', 6: 'Saturday',\n",
    "\t\t\t\t7: 'Sunday'}\n",
    "\t\n",
    "\tif day in Day_dict.keys():\n",
    "\t\tday_of_the_week = Day_dict[day]\n",
    "\t\tprint(day_of_the_week)\n",
    "\t\tspeak(\"The day is \" + day_of_the_week)\n",
    "\n",
    "\n",
    "def tellTime():\n",
    "\n",
    "\ttime = str(datetime.datetime.now())\n",
    "\n",
    "\n",
    "\tprint(time)\n",
    "\thour = time[11:13]\n",
    "\tmin = time[14:16]\n",
    "\tspeak(self, \"The time is sir\" + hour + \"Hours and\" + min + \"Minutes\")\t\n",
    "\n",
    "def Hello():\n",
    "\n",
    "\tspeak(\"hello sir I am your desktop assistant.Tell me how may I help you\")\n",
    "\n",
    "\n",
    "def Take_query():\n",
    "\n",
    "\n",
    "\tHello()\n",
    "\n",
    "\twhile(True):\n",
    "\n",
    "\t\tquery = takeCommand().lower()\n",
    "\t\tif \"open geeksforgeeks\" in query:\n",
    "\t\t\tspeak(\"Opening GeeksforGeeks \")\n",
    "\t\t\t\n",
    "\n",
    "\t\t\twebbrowser.open(\"www.geeksforgeeks.com\")\n",
    "\t\t\tcontinue\n",
    "            \n",
    "\t\telif \"open google\" in query:\n",
    "\t\t\tspeak(\"Opening Google \")\n",
    "\t\t\twebbrowser.open(\"www.google.com\")\n",
    "\t\t\tcontinue\n",
    "\t\t\t\n",
    "\t\telif \"which day it is\" in query:\n",
    "\t\t\ttellDay()\n",
    "\t\t\tcontinue\n",
    "\t\t\n",
    "\t\telif \"tell me the time\" in query:\n",
    "\t\t\ttellTime()\n",
    "\t\t\tcontinue\n",
    "\t\t\n",
    "\t\t\n",
    "\t\telif \"bye\" in query:\n",
    "\t\t\tspeak(\"Bye. Check Out GFG for more exicting things\")\n",
    "\t\t\texit()\n",
    "\t\t\n",
    "\t\telif \"from wikipedia\" in query:\n",
    "\t\t\t\n",
    "\n",
    "\t\t\tspeak(\"Checking the wikipedia \")\n",
    "\t\t\tquery = query.replace(\"wikipedia\", \"\")\n",
    "\t\t\t\n",
    "\n",
    "\t\t\tresult = wikipedia.summary(query, sentences=4)\n",
    "\t\t\tspeak(\"According to wikipedia\")\n",
    "\t\t\tspeak(result)\n",
    "\t\t\n",
    "\t\telif \"tell me your name\" in query:\n",
    "\t\t\tspeak(\"I am moxa. Your deskstop Assistant\")\n",
    "\n",
    "if __name__ == '__main__':\n",
    "\n",
    "    Take_query()\n"
   ]
  }
 ],
 "metadata": {
  "kernelspec": {
   "display_name": "Python 3",
   "language": "python",
   "name": "python3"
  },
  "language_info": {
   "codemirror_mode": {
    "name": "ipython",
    "version": 3
   },
   "file_extension": ".py",
   "mimetype": "text/x-python",
   "name": "python",
   "nbconvert_exporter": "python",
   "pygments_lexer": "ipython3",
   "version": "3.8.5"
  }
 },
 "nbformat": 4,
 "nbformat_minor": 4
}
